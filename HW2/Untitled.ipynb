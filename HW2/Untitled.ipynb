{
 "cells": [
  {
   "cell_type": "code",
   "execution_count": 1,
   "metadata": {},
   "outputs": [],
   "source": [
    "import numpy as np"
   ]
  },
  {
   "cell_type": "code",
   "execution_count": 8,
   "metadata": {},
   "outputs": [],
   "source": [
    "def valid_state(s):\n",
    "    if(s[0]>=0 and s[0]<4):\n",
    "        if(s[1]>=0 and s[1]<4):\n",
    "            return(True)\n",
    "    return(False)\n",
    "def terminal(s):\n",
    "    if(s[0]==0 and s[1]==0):\n",
    "        return(True)\n",
    "    if(s[0]==3 and s[1]==3):\n",
    "        return(True)\n",
    "    return(False)\n",
    "def policy_evaluation(gridworld=None,policy=None):\n",
    "    gamma = 1\n",
    "    if(gridworld is None):\n",
    "        gridworld = np.zeros((4,4))\n",
    "    mx = [-1,0,0,1]\n",
    "    my = [0,1,-1,0]\n",
    "    if(policy is None):\n",
    "        policy = np.ones((4,4,4))*0.25\n",
    "    changes = True\n",
    "    count = 0\n",
    "    while(changes):\n",
    "        count+=1\n",
    "        changes= False\n",
    "        for i in range(4):\n",
    "            for j in range(4):\n",
    "                total = 0\n",
    "                state = (i,j)\n",
    "                if(terminal(state)):\n",
    "                        continue\n",
    "                for d in range(4):\n",
    "                    dx = mx[d]\n",
    "                    dy = my[d]\n",
    "                    dest = (dx,dy) \n",
    "                    new_s = np.add(state,dest) \n",
    "                    if(not valid_state(new_s)):\n",
    "                        new_s=state\n",
    "                    r=-1\n",
    "#                     if(terminal(new_s)):\n",
    "#                         r=0\n",
    "                    r += gamma*gridworld[new_s[0],new_s[1]]\n",
    "                    total+=policy[i,j,d]*r\n",
    "                if(np.abs(total-gridworld[i,j])>0.01):\n",
    "                    changes = True\n",
    "                gridworld[i,j]=total\n",
    "        if(count%10==0):\n",
    "            display(gridworld)\n",
    "            print(\"evalutation count\",count)\n",
    "    return(gridworld)"
   ]
  },
  {
   "cell_type": "code",
   "execution_count": 9,
   "metadata": {},
   "outputs": [
    {
     "data": {
      "text/plain": [
       "array([[  0.        ,  -7.82506756, -11.12181872, -12.22765503],\n",
       "       [ -7.82506756, -10.42037166, -11.76933739, -11.86339862],\n",
       "       [-11.12181872, -11.76933739, -11.0538181 ,  -8.81387889],\n",
       "       [-12.22765503, -11.86339862,  -8.81387889,   0.        ]])"
      ]
     },
     "metadata": {},
     "output_type": "display_data"
    },
    {
     "name": "stdout",
     "output_type": "stream",
     "text": [
      "evalutation count 10\n"
     ]
    },
    {
     "data": {
      "text/plain": [
       "array([[  0.        , -11.42591538, -16.29940807, -17.92681232],\n",
       "       [-11.42591538, -14.84125831, -16.57033147, -16.60954761],\n",
       "       [-16.29940807, -16.57033147, -15.10598674, -11.83929409],\n",
       "       [-17.92681232, -16.60954761, -11.83929409,   0.        ]])"
      ]
     },
     "metadata": {},
     "output_type": "display_data"
    },
    {
     "name": "stdout",
     "output_type": "stream",
     "text": [
      "evalutation count 20\n"
     ]
    },
    {
     "data": {
      "text/plain": [
       "array([[  0.        , -12.92728455, -18.457828  , -20.30255383],\n",
       "       [-12.92728455, -16.68363739, -18.57073269, -18.5870755 ],\n",
       "       [-18.457828  , -18.57073269, -16.79396009, -13.09955577],\n",
       "       [-20.30255383, -18.5870755 , -13.09955577,   0.        ]])"
      ]
     },
     "metadata": {},
     "output_type": "display_data"
    },
    {
     "name": "stdout",
     "output_type": "stream",
     "text": [
      "evalutation count 30\n"
     ]
    },
    {
     "data": {
      "text/plain": [
       "array([[  0.        , -13.55296045, -19.35732082, -21.29261243],\n",
       "       [-13.55296045, -17.45142381, -19.40437232, -19.41118296],\n",
       "       [-19.35732082, -19.40437232, -17.49739929, -13.62475213],\n",
       "       [-21.29261243, -19.41118296, -13.62475213,   0.        ]])"
      ]
     },
     "metadata": {},
     "output_type": "display_data"
    },
    {
     "name": "stdout",
     "output_type": "stream",
     "text": [
      "evalutation count 40\n"
     ]
    },
    {
     "data": {
      "text/plain": [
       "array([[  0.        , -13.81370235, -19.73217221, -21.70520586],\n",
       "       [-13.81370235, -17.77138835, -19.75178028, -19.75461852],\n",
       "       [-19.73217221, -19.75178028, -17.790548  , -13.84362056],\n",
       "       [-21.70520586, -19.75461852, -13.84362056,   0.        ]])"
      ]
     },
     "metadata": {},
     "output_type": "display_data"
    },
    {
     "name": "stdout",
     "output_type": "stream",
     "text": [
      "evalutation count 50\n"
     ]
    },
    {
     "data": {
      "text/plain": [
       "array([[  0.        , -13.92236299, -19.88838642, -21.87714856],\n",
       "       [-13.92236299, -17.90472921, -19.89655781, -19.89774061],\n",
       "       [-19.88838642, -19.89655781, -17.91271373, -13.934831  ],\n",
       "       [-21.87714856, -19.89774061, -13.934831  ,   0.        ]])"
      ]
     },
     "metadata": {},
     "output_type": "display_data"
    },
    {
     "name": "stdout",
     "output_type": "stream",
     "text": [
      "evalutation count 60\n"
     ]
    }
   ],
   "source": [
    "grid = policy_evaluation()"
   ]
  },
  {
   "cell_type": "code",
   "execution_count": 24,
   "metadata": {},
   "outputs": [],
   "source": [
    "def print_policy(policy):\n",
    "    mx = [-1,0,0,1]\n",
    "    my = [0,1,-1,0]\n",
    "    \n",
    "    z = np.zeros((4,4))\n",
    "    for i in range(4):\n",
    "        for j in range(4):\n",
    "            val = np.argmax(policy[i,j,:])\n",
    "    #         print(val)\n",
    "#             z[i,j]=val\n",
    "            print(\"({0},{1})\".format(mx[val],my[val]),end=\" \")\n",
    "        print()\n",
    "#     plt.contour(z)\n",
    "#     plt.show()\n",
    "#     print(z)\n",
    "def policy_improvement(gridworld):\n",
    "    stable = False\n",
    "    policy = []\n",
    "    mx = [-1,0,0,1]\n",
    "    my = [0,1,-1,0]\n",
    "    policy = np.ones((4,4,4))*0.25\n",
    "#     policy[:,:,0]=\n",
    "    while(not stable):\n",
    "        stable=True\n",
    "        for i in range(4):\n",
    "            for j in range(4):\n",
    "                state = (i,j)\n",
    "                if(terminal(state)):\n",
    "                    continue\n",
    "                old_action = np.argmax(policy[i,j,:])\n",
    "                old_actions = np.where(policy[i,j,:]==policy[i,j,:].max())[0]\n",
    "                print(old_actions,i,j)\n",
    "                best_value = -np.inf\n",
    "                best_move = None\n",
    "                for d in range(4):\n",
    "                    dest = (mx[d],my[d])\n",
    "                    new_s = np.add(state,dest)\n",
    "                    if(not valid_state(new_s)):\n",
    "                        new_s =  state\n",
    "                    if(terminal(new_s)):\n",
    "                        r = policy[i,j,d]*(gridworld[new_s[0],new_s[1]])\n",
    "                    else:\n",
    "                        r = policy[i,j,d]*(-1+gridworld[new_s[0],new_s[1]])\n",
    "                    if(r>best_value):\n",
    "#                         print(best_value,r,d)\n",
    "                        best_value = r\n",
    "                        best_move = d\n",
    "                policy[i,j,:]=0\n",
    "                policy[i,j,best_move]=1\n",
    "#                 stable = True\n",
    "                if(best_move not in old_actions):\n",
    "                    stable=False\n",
    "                    print(best_move,old_action)\n",
    "                \n",
    "                        \n",
    "        if(not stable):\n",
    "            print(\"not stable\")\n",
    "            display(gridworld)\n",
    "            gridworld=policy_evaluation(gridworld,policy)\n",
    "            display(gridworld)\n",
    "            print_policy(policy)\n",
    "    return(policy)\n",
    "                \n",
    "                "
   ]
  },
  {
   "cell_type": "code",
   "execution_count": 25,
   "metadata": {},
   "outputs": [
    {
     "name": "stdout",
     "output_type": "stream",
     "text": [
      "[0 1 2 3] 0 1\n",
      "[0 1 2 3] 0 2\n",
      "[0 1 2 3] 0 3\n",
      "[0 1 2 3] 1 0\n",
      "[0 1 2 3] 1 1\n",
      "[0 1 2 3] 1 2\n",
      "[0 1 2 3] 1 3\n",
      "[0 1 2 3] 2 0\n",
      "[0 1 2 3] 2 1\n",
      "[0 1 2 3] 2 2\n",
      "[0 1 2 3] 2 3\n",
      "[0 1 2 3] 3 0\n",
      "[0 1 2 3] 3 1\n",
      "[0 1 2 3] 3 2\n"
     ]
    }
   ],
   "source": [
    "p = policy_improvement(grid)"
   ]
  },
  {
   "cell_type": "code",
   "execution_count": 26,
   "metadata": {},
   "outputs": [
    {
     "data": {
      "text/plain": [
       "array([[[0.25, 0.25, 0.25, 0.25],\n",
       "        [0.  , 0.  , 1.  , 0.  ],\n",
       "        [0.  , 0.  , 1.  , 0.  ],\n",
       "        [0.  , 0.  , 1.  , 0.  ]],\n",
       "\n",
       "       [[1.  , 0.  , 0.  , 0.  ],\n",
       "        [0.  , 0.  , 1.  , 0.  ],\n",
       "        [1.  , 0.  , 0.  , 0.  ],\n",
       "        [1.  , 0.  , 0.  , 0.  ]],\n",
       "\n",
       "       [[1.  , 0.  , 0.  , 0.  ],\n",
       "        [1.  , 0.  , 0.  , 0.  ],\n",
       "        [1.  , 0.  , 0.  , 0.  ],\n",
       "        [0.  , 0.  , 0.  , 1.  ]],\n",
       "\n",
       "       [[1.  , 0.  , 0.  , 0.  ],\n",
       "        [1.  , 0.  , 0.  , 0.  ],\n",
       "        [0.  , 1.  , 0.  , 0.  ],\n",
       "        [0.25, 0.25, 0.25, 0.25]]])"
      ]
     },
     "execution_count": 26,
     "metadata": {},
     "output_type": "execute_result"
    }
   ],
   "source": [
    "p"
   ]
  },
  {
   "cell_type": "code",
   "execution_count": null,
   "metadata": {},
   "outputs": [],
   "source": []
  }
 ],
 "metadata": {
  "kernelspec": {
   "display_name": "Python 3",
   "language": "python",
   "name": "python3"
  },
  "language_info": {
   "codemirror_mode": {
    "name": "ipython",
    "version": 3
   },
   "file_extension": ".py",
   "mimetype": "text/x-python",
   "name": "python",
   "nbconvert_exporter": "python",
   "pygments_lexer": "ipython3",
   "version": "3.7.4"
  }
 },
 "nbformat": 4,
 "nbformat_minor": 4
}
